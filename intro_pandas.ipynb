{
  "nbformat": 4,
  "nbformat_minor": 0,
  "metadata": {
    "colab": {
      "provenance": [],
      "authorship_tag": "ABX9TyNR/f6cha6LRYBmquZPE3d1",
      "include_colab_link": true
    },
    "kernelspec": {
      "name": "python3",
      "display_name": "Python 3"
    },
    "language_info": {
      "name": "python"
    }
  },
  "cells": [
    {
      "cell_type": "markdown",
      "metadata": {
        "id": "view-in-github",
        "colab_type": "text"
      },
      "source": [
        "<a href=\"https://colab.research.google.com/github/mikesabbath18/MyFirstRep/blob/main/intro_pandas.ipynb\" target=\"_parent\"><img src=\"https://colab.research.google.com/assets/colab-badge.svg\" alt=\"Open In Colab\"/></a>"
      ]
    },
    {
      "cell_type": "code",
      "source": [
        "import pandas as pd\n",
        "# Create a Series from a list\n",
        "\n",
        "#data = [1,2,3.5,4,5,6,9]\n",
        "#data2 = ['milk','bread','eggs','water','apples']\n",
        "\n",
        "#d2 = pd.Series(data2)\n",
        "#d = pd.Series(data)\n",
        "\n",
        "#print(d2)\n",
        "\n",
        "# Create DataFrame (from dictionary)\n",
        "\n",
        "data = {'Name': ['Alice', 'Bob', 'Charlie', 'David'],\n",
        "        'Age': [25, 30, 35, 28],\n",
        "        'City': ['New York', 'San Francisco', 'Los Angeles', 'Chicago']}\n",
        "df = pd.DataFrame(data)\n",
        "print(df)"
      ],
      "metadata": {
        "id": "Ilm-ZzaL9DxZ",
        "colab": {
          "base_uri": "https://localhost:8080/"
        },
        "outputId": "c2492dac-e706-434a-cbc7-957bed124ef7"
      },
      "execution_count": 7,
      "outputs": [
        {
          "output_type": "stream",
          "name": "stdout",
          "text": [
            "      Name  Age           City\n",
            "0    Alice   25       New York\n",
            "1      Bob   30  San Francisco\n",
            "2  Charlie   35    Los Angeles\n",
            "3    David   28        Chicago\n"
          ]
        }
      ]
    },
    {
      "cell_type": "markdown",
      "source": [],
      "metadata": {
        "id": "CX1lOw5V8rUV"
      }
    },
    {
      "cell_type": "code",
      "source": [],
      "metadata": {
        "id": "XaOaFrV61Jc4"
      },
      "execution_count": null,
      "outputs": []
    }
  ]
}